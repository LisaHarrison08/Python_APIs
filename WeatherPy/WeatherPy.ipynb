{
 "cells": [
  {
   "cell_type": "markdown",
   "metadata": {},
   "source": [
    "# WeatherPy\n",
    "----\n",
    "\n",
    "#### Analysis\n",
    "Observation:  Northern Hemisphere - Max Temp vs. Latitude Linear Regression\n",
    "Negative linear relationship – The temperature decreases as we move further away from the equator and latitude increases.\n",
    "\n",
    "Observation: Southern Hemisphere - Max Temp vs. Latitude Linear Regression\n",
    "Positive linear relationship – The temperature increases as we move towards the equator and latitude increases.\n",
    "\n",
    "Observation: Northern and Southern Hemisphere - Humidity (%) vs. Latitude Linear Regression\n",
    "No correlation is shown between humidity and latitude for the Norther and Southern Hemispheres and no strong relationship between cloudiness and latitude for both the Northern and Southern Hemispheres.\n"
   ]
  },
  {
   "cell_type": "code",
   "execution_count": 54,
   "metadata": {
    "scrolled": true
   },
   "outputs": [],
   "source": [
    "# Dependencies and Setup\n",
    "import os\n",
    "import matplotlib.pyplot as plt\n",
    "import pandas as pd\n",
    "import numpy as np\n",
    "import requests\n",
    "import time\n",
    "import scipy.stats as st\n",
    "from scipy.stats import linregress\n",
    "\n",
    "# Import API key\n",
    "from config import weather_api_key\n",
    "\n",
    "# Incorporated citipy to determine city based on latitude and longitude\n",
    "from citipy import citipy\n",
    "\n",
    "# Output File (CSV)\n",
    "output_data_file = \"../output_data/cities.csv\"\n",
    "\n",
    "# Range of latitudes and longitudes\n",
    "lat_range = (-90, 90)\n",
    "lng_range = (-180, 180)"
   ]
  },
  {
   "cell_type": "markdown",
   "metadata": {},
   "source": [
    "## Generate Cities List"
   ]
  },
  {
   "cell_type": "code",
   "execution_count": 2,
   "metadata": {},
   "outputs": [
    {
     "data": {
      "text/plain": [
       "626"
      ]
     },
     "execution_count": 2,
     "metadata": {},
     "output_type": "execute_result"
    }
   ],
   "source": [
    "# List for holding lat_lngs and cities\n",
    "lat_lngs = []\n",
    "cities = []\n",
    "\n",
    "# Create a set of random lat and lng combinations\n",
    "lats = np.random.uniform(lat_range[0], lat_range[1], size=1500)\n",
    "lngs = np.random.uniform(lng_range[0], lng_range[1], size=1500)\n",
    "lat_lngs = zip(lats, lngs)\n",
    "\n",
    "# Identify nearest city for each lat, lng combination\n",
    "for lat_lng in lat_lngs:\n",
    "    city = citipy.nearest_city(lat_lng[0], lat_lng[1]).city_name\n",
    "    \n",
    "    # If the city is unique, then add it to a our cities list\n",
    "    if city not in cities:\n",
    "        cities.append(city)\n",
    "\n",
    "# Print the city count to confirm sufficient count\n",
    "len(cities)"
   ]
  },
  {
   "cell_type": "markdown",
   "metadata": {},
   "source": [
    "### Perform API Calls\n",
    "* Perform a weather check on each city using a series of successive API calls.\n",
    "* Include a print log of each city as it'sbeing processed (with the city number and city name).\n"
   ]
  },
  {
   "cell_type": "code",
   "execution_count": 6,
   "metadata": {},
   "outputs": [
    {
     "name": "stdout",
     "output_type": "stream",
     "text": [
      "Processing Record 1 of Set 1 | bethel\n",
      "Processing Record 2 of Set 1 | tasiilaq\n",
      "Processing Record 3 of Set 1 | te anau\n",
      "Processing Record 4 of Set 1 | east london\n",
      "Processing Record 5 of Set 1 | grand gaube\n",
      "Processing Record 6 of Set 1 | albany\n",
      "Processing Record 7 of Set 1 | grand river south east\n",
      "City not found. Skipping...\n",
      "Processing Record 8 of Set 1 | taolanaro\n",
      "City not found. Skipping...\n",
      "Processing Record 9 of Set 1 | smithers\n",
      "Processing Record 10 of Set 1 | ahipara\n",
      "Processing Record 11 of Set 1 | samalaeulu\n",
      "City not found. Skipping...\n",
      "Processing Record 12 of Set 1 | amderma\n",
      "City not found. Skipping...\n",
      "Processing Record 13 of Set 1 | ushuaia\n",
      "Processing Record 14 of Set 1 | hilo\n",
      "Processing Record 15 of Set 1 | mar del plata\n",
      "Processing Record 16 of Set 1 | puerto ayora\n",
      "Processing Record 17 of Set 1 | port alfred\n",
      "Processing Record 18 of Set 1 | camana\n",
      "Processing Record 19 of Set 1 | pevek\n",
      "Processing Record 20 of Set 1 | kapaa\n",
      "Processing Record 21 of Set 1 | elk plain\n",
      "Processing Record 22 of Set 1 | nanortalik\n",
      "Processing Record 23 of Set 1 | daxian\n",
      "City not found. Skipping...\n",
      "Processing Record 24 of Set 1 | flinders\n",
      "Processing Record 25 of Set 1 | lebu\n",
      "Processing Record 26 of Set 1 | mount isa\n",
      "Processing Record 27 of Set 1 | tirschenreuth\n",
      "Processing Record 28 of Set 1 | butaritari\n",
      "Processing Record 29 of Set 1 | goure\n",
      "Processing Record 30 of Set 1 | hithadhoo\n",
      "Processing Record 31 of Set 1 | nishihara\n",
      "Processing Record 32 of Set 1 | beringovskiy\n",
      "Processing Record 33 of Set 1 | khatanga\n",
      "Processing Record 34 of Set 1 | westfield\n",
      "Processing Record 35 of Set 1 | emba\n",
      "Processing Record 36 of Set 1 | inirida\n",
      "Processing Record 37 of Set 1 | vardo\n",
      "Processing Record 38 of Set 1 | sibu\n",
      "Processing Record 39 of Set 1 | leh\n",
      "Processing Record 40 of Set 1 | hermanus\n",
      "Processing Record 41 of Set 1 | nikolskoye\n",
      "Processing Record 42 of Set 1 | nova olinda do norte\n",
      "Processing Record 43 of Set 1 | mataura\n",
      "Processing Record 44 of Set 1 | kampene\n",
      "Processing Record 45 of Set 1 | saldanha\n",
      "Processing Record 46 of Set 1 | nha trang\n",
      "Processing Record 47 of Set 1 | mazamari\n",
      "Processing Record 48 of Set 1 | chokurdakh\n",
      "Processing Record 49 of Set 1 | castro\n",
      "Processing Record 50 of Set 1 | fortuna\n",
      "Processing Record 1 of Set 2 | bluff\n",
      "Processing Record 2 of Set 2 | yulara\n",
      "Processing Record 3 of Set 2 | dikson\n",
      "Processing Record 4 of Set 2 | hobart\n",
      "Processing Record 5 of Set 2 | tuktoyaktuk\n",
      "Processing Record 6 of Set 2 | iqaluit\n",
      "Processing Record 7 of Set 2 | farafangana\n",
      "Processing Record 8 of Set 2 | rikitea\n",
      "Processing Record 9 of Set 2 | faanui\n",
      "Processing Record 10 of Set 2 | nizhneyansk\n",
      "City not found. Skipping...\n",
      "Processing Record 11 of Set 2 | atuona\n",
      "Processing Record 12 of Set 2 | vaini\n",
      "Processing Record 13 of Set 2 | angoche\n",
      "Processing Record 14 of Set 2 | norman wells\n",
      "Processing Record 15 of Set 2 | atar\n",
      "Processing Record 16 of Set 2 | busselton\n",
      "Processing Record 17 of Set 2 | tiksi\n",
      "Processing Record 18 of Set 2 | lokosovo\n",
      "Processing Record 19 of Set 2 | punta arenas\n",
      "Processing Record 20 of Set 2 | belushya guba\n",
      "City not found. Skipping...\n",
      "Processing Record 21 of Set 2 | carutapera\n",
      "Processing Record 22 of Set 2 | dorado\n",
      "Processing Record 23 of Set 2 | airai\n",
      "Processing Record 24 of Set 2 | keflavik\n",
      "Processing Record 25 of Set 2 | cape town\n",
      "Processing Record 26 of Set 2 | puerto escondido\n",
      "Processing Record 27 of Set 2 | bambous virieux\n",
      "Processing Record 28 of Set 2 | port elizabeth\n",
      "Processing Record 29 of Set 2 | arraial do cabo\n",
      "Processing Record 30 of Set 2 | staryy nadym\n",
      "Processing Record 31 of Set 2 | lolua\n",
      "City not found. Skipping...\n",
      "Processing Record 32 of Set 2 | bull savanna\n",
      "Processing Record 33 of Set 2 | kavieng\n",
      "Processing Record 34 of Set 2 | kattivakkam\n",
      "Processing Record 35 of Set 2 | zhezkazgan\n",
      "Processing Record 36 of Set 2 | codrington\n",
      "Processing Record 37 of Set 2 | kudahuvadhoo\n",
      "Processing Record 38 of Set 2 | gunnedah\n",
      "Processing Record 39 of Set 2 | komsomolskiy\n",
      "Processing Record 40 of Set 2 | surt\n",
      "Processing Record 41 of Set 2 | sorvag\n",
      "City not found. Skipping...\n",
      "Processing Record 42 of Set 2 | mananara\n",
      "Processing Record 43 of Set 2 | guerrero negro\n",
      "Processing Record 44 of Set 2 | ust-kishert\n",
      "Processing Record 45 of Set 2 | rapid city\n",
      "Processing Record 46 of Set 2 | villa maria\n",
      "Processing Record 47 of Set 2 | tabory\n",
      "Processing Record 48 of Set 2 | leningradskiy\n",
      "Processing Record 49 of Set 2 | storforshei\n",
      "Processing Record 50 of Set 2 | arlit\n",
      "Processing Record 1 of Set 3 | alice springs\n",
      "Processing Record 2 of Set 3 | puerto leguizamo\n",
      "Processing Record 3 of Set 3 | kruisfontein\n",
      "Processing Record 4 of Set 3 | bentiu\n",
      "Processing Record 5 of Set 3 | kirksville\n",
      "Processing Record 6 of Set 3 | jamestown\n",
      "Processing Record 7 of Set 3 | along\n",
      "Processing Record 8 of Set 3 | pisco\n",
      "Processing Record 9 of Set 3 | guajara-mirim\n",
      "City not found. Skipping...\n",
      "Processing Record 10 of Set 3 | ganzhou\n",
      "Processing Record 11 of Set 3 | palmer\n",
      "Processing Record 12 of Set 3 | touros\n",
      "Processing Record 13 of Set 3 | nouadhibou\n",
      "Processing Record 14 of Set 3 | sitka\n",
      "Processing Record 15 of Set 3 | labuan\n",
      "Processing Record 16 of Set 3 | saint-philippe\n",
      "Processing Record 17 of Set 3 | samusu\n",
      "City not found. Skipping...\n",
      "Processing Record 18 of Set 3 | bredasdorp\n",
      "Processing Record 19 of Set 3 | shaartuz\n",
      "City not found. Skipping...\n",
      "Processing Record 20 of Set 3 | alofi\n",
      "Processing Record 21 of Set 3 | mahebourg\n",
      "Processing Record 22 of Set 3 | cayenne\n",
      "Processing Record 23 of Set 3 | ban dung\n",
      "Processing Record 24 of Set 3 | saleaula\n",
      "City not found. Skipping...\n",
      "Processing Record 25 of Set 3 | sinnamary\n",
      "Processing Record 26 of Set 3 | carnarvon\n",
      "Processing Record 27 of Set 3 | hasaki\n",
      "Processing Record 28 of Set 3 | chunskiy\n",
      "Processing Record 29 of Set 3 | ternate\n",
      "Processing Record 30 of Set 3 | kousseri\n",
      "Processing Record 31 of Set 3 | khovu-aksy\n",
      "Processing Record 32 of Set 3 | kanniyakumari\n",
      "Processing Record 33 of Set 3 | holme\n",
      "Processing Record 34 of Set 3 | avarua\n",
      "Processing Record 35 of Set 3 | viseu de jos\n",
      "Processing Record 36 of Set 3 | khandyga\n",
      "Processing Record 37 of Set 3 | bethanien\n",
      "Processing Record 38 of Set 3 | handwara\n",
      "City not found. Skipping...\n",
      "Processing Record 39 of Set 3 | mezen\n",
      "Processing Record 40 of Set 3 | yellowknife\n",
      "Processing Record 41 of Set 3 | longyearbyen\n",
      "Processing Record 42 of Set 3 | gravelbourg\n",
      "Processing Record 43 of Set 3 | kysyl-syr\n",
      "Processing Record 44 of Set 3 | ust-maya\n",
      "Processing Record 45 of Set 3 | adre\n",
      "Processing Record 46 of Set 3 | chapais\n",
      "Processing Record 47 of Set 3 | rakkestad\n",
      "Processing Record 48 of Set 3 | meghri\n",
      "Processing Record 49 of Set 3 | illoqqortoormiut\n",
      "City not found. Skipping...\n",
      "Processing Record 50 of Set 3 | thompson\n",
      "Processing Record 1 of Set 4 | mys shmidta\n",
      "City not found. Skipping...\n",
      "Processing Record 2 of Set 4 | boguchany\n",
      "Processing Record 3 of Set 4 | vestmannaeyjar\n",
      "Processing Record 4 of Set 4 | college\n",
      "Processing Record 5 of Set 4 | sur\n",
      "Processing Record 6 of Set 4 | hovd\n",
      "Processing Record 7 of Set 4 | olafsvik\n",
      "Processing Record 8 of Set 4 | souillac\n",
      "Processing Record 9 of Set 4 | paamiut\n",
      "Processing Record 10 of Set 4 | ancud\n",
      "Processing Record 11 of Set 4 | lappeenranta\n",
      "Processing Record 12 of Set 4 | ishigaki\n",
      "Processing Record 13 of Set 4 | katsuura\n",
      "Processing Record 14 of Set 4 | panaba\n",
      "Processing Record 15 of Set 4 | ishurdi\n",
      "Processing Record 16 of Set 4 | namibe\n",
      "Processing Record 17 of Set 4 | lerwick\n",
      "Processing Record 18 of Set 4 | okha\n",
      "Processing Record 19 of Set 4 | lompoc\n",
      "Processing Record 20 of Set 4 | cherskiy\n",
      "Processing Record 21 of Set 4 | tumannyy\n",
      "City not found. Skipping...\n",
      "Processing Record 22 of Set 4 | new norfolk\n",
      "Processing Record 23 of Set 4 | banyo\n",
      "Processing Record 24 of Set 4 | qaanaaq\n",
      "Processing Record 25 of Set 4 | griffith\n",
      "Processing Record 26 of Set 4 | agadir\n",
      "Processing Record 27 of Set 4 | townsville\n",
      "Processing Record 28 of Set 4 | luderitz\n",
      "Processing Record 29 of Set 4 | kaitangata\n",
      "Processing Record 30 of Set 4 | mogadishu\n",
      "Processing Record 31 of Set 4 | ostrovnoy\n",
      "Processing Record 32 of Set 4 | klaksvik\n",
      "Processing Record 33 of Set 4 | ye\n",
      "City not found. Skipping...\n",
      "Processing Record 34 of Set 4 | esperance\n",
      "Processing Record 35 of Set 4 | khabary\n",
      "Processing Record 36 of Set 4 | nidderau\n",
      "Processing Record 37 of Set 4 | san patricio\n",
      "Processing Record 38 of Set 4 | ilulissat\n",
      "Processing Record 39 of Set 4 | safwah\n"
     ]
    },
    {
     "name": "stdout",
     "output_type": "stream",
     "text": [
      "City not found. Skipping...\n",
      "Processing Record 40 of Set 4 | isangel\n",
      "Processing Record 41 of Set 4 | fevralsk\n",
      "City not found. Skipping...\n",
      "Processing Record 42 of Set 4 | kytmanovo\n",
      "Processing Record 43 of Set 4 | tucumcari\n",
      "Processing Record 44 of Set 4 | aksu\n",
      "Processing Record 45 of Set 4 | coihaique\n",
      "Processing Record 46 of Set 4 | krasnoselkup\n",
      "Processing Record 47 of Set 4 | mitsamiouli\n",
      "Processing Record 48 of Set 4 | viedma\n",
      "Processing Record 49 of Set 4 | tolaga bay\n",
      "Processing Record 50 of Set 4 | natal\n",
      "Processing Record 1 of Set 5 | saiha\n",
      "Processing Record 2 of Set 5 | lorengau\n",
      "Processing Record 3 of Set 5 | caba\n",
      "Processing Record 4 of Set 5 | saint anthony\n",
      "Processing Record 5 of Set 5 | synya\n",
      "Processing Record 6 of Set 5 | mangai\n",
      "Processing Record 7 of Set 5 | yumen\n",
      "Processing Record 8 of Set 5 | opuwo\n",
      "Processing Record 9 of Set 5 | paita\n",
      "Processing Record 10 of Set 5 | dingle\n",
      "Processing Record 11 of Set 5 | mayor pablo lagerenza\n",
      "Processing Record 12 of Set 5 | barentsburg\n",
      "City not found. Skipping...\n",
      "Processing Record 13 of Set 5 | borogontsy\n",
      "Processing Record 14 of Set 5 | narsaq\n",
      "Processing Record 15 of Set 5 | chirongui\n",
      "Processing Record 16 of Set 5 | plettenberg bay\n",
      "Processing Record 17 of Set 5 | sioux lookout\n",
      "Processing Record 18 of Set 5 | yangjiang\n",
      "Processing Record 19 of Set 5 | sao joao da barra\n",
      "Processing Record 20 of Set 5 | warwick\n",
      "Processing Record 21 of Set 5 | dunedin\n",
      "Processing Record 22 of Set 5 | shahe\n",
      "Processing Record 23 of Set 5 | kibala\n",
      "Processing Record 24 of Set 5 | lata\n",
      "Processing Record 25 of Set 5 | laguna\n",
      "Processing Record 26 of Set 5 | gat\n",
      "Processing Record 27 of Set 5 | kuche\n",
      "City not found. Skipping...\n",
      "Processing Record 28 of Set 5 | barrow\n",
      "Processing Record 29 of Set 5 | ulladulla\n",
      "Processing Record 30 of Set 5 | san cristobal\n",
      "Processing Record 31 of Set 5 | talnakh\n",
      "Processing Record 32 of Set 5 | yeppoon\n",
      "Processing Record 33 of Set 5 | nagato\n",
      "Processing Record 34 of Set 5 | khor\n",
      "Processing Record 35 of Set 5 | saint-augustin\n",
      "Processing Record 36 of Set 5 | mago\n",
      "Processing Record 37 of Set 5 | pangody\n",
      "Processing Record 38 of Set 5 | georgetown\n",
      "Processing Record 39 of Set 5 | victoria\n",
      "Processing Record 40 of Set 5 | paso de carrasco\n",
      "Processing Record 41 of Set 5 | tungor\n",
      "Processing Record 42 of Set 5 | saint george\n",
      "Processing Record 43 of Set 5 | wanaka\n",
      "Processing Record 44 of Set 5 | hargeysa\n",
      "Processing Record 45 of Set 5 | russell\n",
      "Processing Record 46 of Set 5 | ribeira grande\n",
      "Processing Record 47 of Set 5 | coquimbo\n",
      "Processing Record 48 of Set 5 | palana\n",
      "Processing Record 49 of Set 5 | tsihombe\n",
      "City not found. Skipping...\n",
      "Processing Record 50 of Set 5 | skalistyy\n",
      "City not found. Skipping...\n",
      "Processing Record 1 of Set 6 | camacha\n",
      "Processing Record 2 of Set 6 | kilrush\n",
      "Processing Record 3 of Set 6 | waipawa\n",
      "Processing Record 4 of Set 6 | chake chake\n",
      "Processing Record 5 of Set 6 | namatanai\n",
      "Processing Record 6 of Set 6 | hamilton\n",
      "Processing Record 7 of Set 6 | velikiy novgorod\n",
      "Processing Record 8 of Set 6 | upernavik\n",
      "Processing Record 9 of Set 6 | yenagoa\n",
      "Processing Record 10 of Set 6 | saskylakh\n",
      "Processing Record 11 of Set 6 | trincomalee\n",
      "Processing Record 12 of Set 6 | timizart\n",
      "Processing Record 13 of Set 6 | aripuana\n",
      "Processing Record 14 of Set 6 | korla\n",
      "Processing Record 15 of Set 6 | sentyabrskiy\n",
      "City not found. Skipping...\n",
      "Processing Record 16 of Set 6 | neryungri\n",
      "Processing Record 17 of Set 6 | cabedelo\n",
      "Processing Record 18 of Set 6 | oranjemund\n",
      "Processing Record 19 of Set 6 | nisia floresta\n",
      "Processing Record 20 of Set 6 | bandarbeyla\n",
      "Processing Record 21 of Set 6 | umzimvubu\n",
      "City not found. Skipping...\n",
      "Processing Record 22 of Set 6 | svirstroy\n",
      "Processing Record 23 of Set 6 | clyde river\n",
      "Processing Record 24 of Set 6 | windhoek\n",
      "Processing Record 25 of Set 6 | gubkinskiy\n",
      "Processing Record 26 of Set 6 | lagoa\n",
      "Processing Record 27 of Set 6 | hualmay\n",
      "Processing Record 28 of Set 6 | salalah\n",
      "Processing Record 29 of Set 6 | abnub\n",
      "Processing Record 30 of Set 6 | piet retief\n",
      "Processing Record 31 of Set 6 | hobyo\n",
      "Processing Record 32 of Set 6 | ugoofaaru\n",
      "Processing Record 33 of Set 6 | fairbanks\n",
      "Processing Record 34 of Set 6 | vila franca do campo\n",
      "Processing Record 35 of Set 6 | xining\n",
      "Processing Record 36 of Set 6 | urumqi\n",
      "Processing Record 37 of Set 6 | taoudenni\n",
      "Processing Record 38 of Set 6 | cairns\n",
      "Processing Record 39 of Set 6 | fairlie\n",
      "Processing Record 40 of Set 6 | aklavik\n",
      "Processing Record 41 of Set 6 | edd\n",
      "Processing Record 42 of Set 6 | lakes entrance\n",
      "Processing Record 43 of Set 6 | port hardy\n",
      "Processing Record 44 of Set 6 | eirunepe\n",
      "Processing Record 45 of Set 6 | palabuhanratu\n",
      "City not found. Skipping...\n",
      "Processing Record 46 of Set 6 | fort nelson\n",
      "Processing Record 47 of Set 6 | kabompo\n",
      "Processing Record 48 of Set 6 | vreed en hoop\n",
      "City not found. Skipping...\n",
      "Processing Record 49 of Set 6 | wanning\n",
      "Processing Record 50 of Set 6 | terrace\n",
      "Processing Record 1 of Set 7 | hirara\n",
      "Processing Record 2 of Set 7 | sabang\n",
      "Processing Record 3 of Set 7 | takoradi\n",
      "Processing Record 4 of Set 7 | hatillo\n",
      "Processing Record 5 of Set 7 | yaan\n",
      "Processing Record 6 of Set 7 | strezhevoy\n",
      "Processing Record 7 of Set 7 | caravelas\n",
      "Processing Record 8 of Set 7 | matara\n",
      "Processing Record 9 of Set 7 | northam\n",
      "Processing Record 10 of Set 7 | coahuayana\n",
      "Processing Record 11 of Set 7 | rocha\n",
      "Processing Record 12 of Set 7 | cananeia\n",
      "Processing Record 13 of Set 7 | amurrio\n",
      "Processing Record 14 of Set 7 | ocean springs\n",
      "Processing Record 15 of Set 7 | vila velha\n",
      "Processing Record 16 of Set 7 | launceston\n",
      "Processing Record 17 of Set 7 | aberdeen\n",
      "Processing Record 18 of Set 7 | nuuk\n",
      "Processing Record 19 of Set 7 | atambua\n",
      "Processing Record 20 of Set 7 | tooele\n",
      "Processing Record 21 of Set 7 | kamien pomorski\n",
      "Processing Record 22 of Set 7 | trairi\n",
      "Processing Record 23 of Set 7 | letpadan\n",
      "Processing Record 24 of Set 7 | katsiveli\n",
      "City not found. Skipping...\n",
      "Processing Record 25 of Set 7 | chumikan\n",
      "Processing Record 26 of Set 7 | peniche\n",
      "Processing Record 27 of Set 7 | wichita falls\n",
      "Processing Record 28 of Set 7 | dalvik\n",
      "Processing Record 29 of Set 7 | providencia\n",
      "Processing Record 30 of Set 7 | sinop\n",
      "Processing Record 31 of Set 7 | kulhudhuffushi\n",
      "Processing Record 32 of Set 7 | shchuchye\n",
      "City not found. Skipping...\n",
      "Processing Record 33 of Set 7 | springbok\n",
      "Processing Record 34 of Set 7 | port macquarie\n",
      "Processing Record 35 of Set 7 | adrar\n",
      "Processing Record 36 of Set 7 | nizhniy kuranakh\n",
      "Processing Record 37 of Set 7 | brae\n",
      "Processing Record 38 of Set 7 | bilibino\n",
      "Processing Record 39 of Set 7 | sorland\n",
      "Processing Record 40 of Set 7 | vostok\n",
      "Processing Record 41 of Set 7 | marck\n",
      "Processing Record 42 of Set 7 | veraval\n",
      "Processing Record 43 of Set 7 | ngunguru\n",
      "Processing Record 44 of Set 7 | amahai\n",
      "Processing Record 45 of Set 7 | kralendijk\n",
      "Processing Record 46 of Set 7 | qasigiannguit\n",
      "Processing Record 47 of Set 7 | port blair\n",
      "Processing Record 48 of Set 7 | kenai\n",
      "Processing Record 49 of Set 7 | manta\n",
      "Processing Record 50 of Set 7 | jacqueville\n",
      "Processing Record 1 of Set 8 | allende\n",
      "Processing Record 2 of Set 8 | ilebo\n",
      "Processing Record 3 of Set 8 | tundla\n",
      "Processing Record 4 of Set 8 | agua branca\n",
      "Processing Record 5 of Set 8 | mabaruma\n",
      "Processing Record 6 of Set 8 | murray bridge\n",
      "Processing Record 7 of Set 8 | benguela\n",
      "Processing Record 8 of Set 8 | furano\n",
      "Processing Record 9 of Set 8 | tecoanapa\n",
      "Processing Record 10 of Set 8 | qui nhon\n",
      "Processing Record 11 of Set 8 | wilmington\n",
      "Processing Record 12 of Set 8 | hay river\n",
      "Processing Record 13 of Set 8 | jiutai\n",
      "Processing Record 14 of Set 8 | henties bay\n",
      "Processing Record 15 of Set 8 | cidreira\n",
      "Processing Record 16 of Set 8 | newport\n",
      "Processing Record 17 of Set 8 | baykit\n",
      "Processing Record 18 of Set 8 | omsukchan\n",
      "Processing Record 19 of Set 8 | limenaria\n",
      "Processing Record 20 of Set 8 | grand-santi\n",
      "Processing Record 21 of Set 8 | tabou\n",
      "Processing Record 22 of Set 8 | ondorhaan\n",
      "City not found. Skipping...\n",
      "Processing Record 23 of Set 8 | derzhavinsk\n",
      "Processing Record 24 of Set 8 | haines junction\n",
      "Processing Record 25 of Set 8 | suicheng\n",
      "Processing Record 26 of Set 8 | buchanan\n",
      "Processing Record 27 of Set 8 | morro bay\n",
      "Processing Record 28 of Set 8 | hit\n",
      "Processing Record 29 of Set 8 | bolungarvik\n",
      "City not found. Skipping...\n",
      "Processing Record 30 of Set 8 | hunza\n"
     ]
    },
    {
     "name": "stdout",
     "output_type": "stream",
     "text": [
      "City not found. Skipping...\n",
      "Processing Record 31 of Set 8 | formoso do araguaia\n",
      "City not found. Skipping...\n",
      "Processing Record 32 of Set 8 | tongliao\n",
      "Processing Record 33 of Set 8 | canmore\n",
      "Processing Record 34 of Set 8 | kodiak\n",
      "Processing Record 35 of Set 8 | vaitupu\n",
      "City not found. Skipping...\n",
      "Processing Record 36 of Set 8 | whitehorse\n",
      "Processing Record 37 of Set 8 | lewistown\n",
      "Processing Record 38 of Set 8 | solnechnyy\n",
      "Processing Record 39 of Set 8 | lubbock\n",
      "Processing Record 40 of Set 8 | attawapiskat\n",
      "City not found. Skipping...\n",
      "Processing Record 41 of Set 8 | karlskrona\n",
      "Processing Record 42 of Set 8 | severo-yeniseyskiy\n",
      "Processing Record 43 of Set 8 | liverpool\n",
      "Processing Record 44 of Set 8 | moron\n",
      "Processing Record 45 of Set 8 | bonfim\n",
      "Processing Record 46 of Set 8 | sakakah\n",
      "Processing Record 47 of Set 8 | severnoye\n",
      "Processing Record 48 of Set 8 | mahajanga\n",
      "Processing Record 49 of Set 8 | kalabo\n",
      "Processing Record 50 of Set 8 | omboue\n",
      "Processing Record 1 of Set 9 | soyo\n",
      "Processing Record 2 of Set 9 | colombo\n",
      "Processing Record 3 of Set 9 | uinskoye\n",
      "Processing Record 4 of Set 9 | hambantota\n",
      "Processing Record 5 of Set 9 | katherine\n",
      "Processing Record 6 of Set 9 | atasu\n",
      "Processing Record 7 of Set 9 | itanhandu\n",
      "Processing Record 8 of Set 9 | arroio grande\n",
      "Processing Record 9 of Set 9 | da nang\n",
      "Processing Record 10 of Set 9 | caucaia\n",
      "Processing Record 11 of Set 9 | limoux\n",
      "Processing Record 12 of Set 9 | san jose\n",
      "Processing Record 13 of Set 9 | ayan\n",
      "Processing Record 14 of Set 9 | bundaberg\n",
      "Processing Record 15 of Set 9 | kihei\n",
      "Processing Record 16 of Set 9 | tura\n",
      "Processing Record 17 of Set 9 | karratha\n",
      "Processing Record 18 of Set 9 | toungoo\n",
      "City not found. Skipping...\n",
      "Processing Record 19 of Set 9 | homer\n",
      "Processing Record 20 of Set 9 | walcz\n",
      "Processing Record 21 of Set 9 | jumla\n",
      "Processing Record 22 of Set 9 | talcher\n",
      "Processing Record 23 of Set 9 | acapulco\n",
      "Processing Record 24 of Set 9 | baherden\n",
      "Processing Record 25 of Set 9 | nsunga\n",
      "Processing Record 26 of Set 9 | dubrajpur\n",
      "Processing Record 27 of Set 9 | yei\n",
      "Processing Record 28 of Set 9 | warqla\n",
      "City not found. Skipping...\n",
      "Processing Record 29 of Set 9 | heihe\n",
      "Processing Record 30 of Set 9 | nurota\n",
      "Processing Record 31 of Set 9 | lagos\n",
      "Processing Record 32 of Set 9 | lavrentiya\n",
      "Processing Record 33 of Set 9 | flin flon\n",
      "Processing Record 34 of Set 9 | singosari\n",
      "Processing Record 35 of Set 9 | gusinoye ozero\n",
      "Processing Record 36 of Set 9 | kleck\n",
      "City not found. Skipping...\n",
      "Processing Record 37 of Set 9 | aktau\n",
      "Processing Record 38 of Set 9 | beloha\n",
      "Processing Record 39 of Set 9 | saint-joseph\n",
      "Processing Record 40 of Set 9 | latung\n",
      "Processing Record 41 of Set 9 | magapit\n",
      "Processing Record 42 of Set 9 | trimbak\n",
      "Processing Record 43 of Set 9 | husavik\n",
      "Processing Record 44 of Set 9 | itarema\n",
      "Processing Record 45 of Set 9 | tabialan\n",
      "City not found. Skipping...\n",
      "Processing Record 46 of Set 9 | zhigansk\n",
      "Processing Record 47 of Set 9 | salinopolis\n",
      "Processing Record 48 of Set 9 | chase\n",
      "Processing Record 49 of Set 9 | mount gambier\n",
      "Processing Record 50 of Set 9 | grand-lahou\n",
      "Processing Record 1 of Set 10 | antofagasta\n",
      "Processing Record 2 of Set 10 | helsingor\n",
      "Processing Record 3 of Set 10 | maltahohe\n",
      "Processing Record 4 of Set 10 | prince albert\n",
      "Processing Record 5 of Set 10 | kapit\n",
      "Processing Record 6 of Set 10 | raudeberg\n",
      "Processing Record 7 of Set 10 | pachino\n",
      "Processing Record 8 of Set 10 | pilao arcado\n",
      "City not found. Skipping...\n",
      "Processing Record 9 of Set 10 | karaul\n",
      "City not found. Skipping...\n",
      "Processing Record 10 of Set 10 | newala\n",
      "Processing Record 11 of Set 10 | vitim\n",
      "Processing Record 12 of Set 10 | istanbul\n",
      "Processing Record 13 of Set 10 | araouane\n",
      "Processing Record 14 of Set 10 | yomitan\n",
      "City not found. Skipping...\n",
      "Processing Record 15 of Set 10 | charlottesville\n",
      "Processing Record 16 of Set 10 | sarkand\n",
      "Processing Record 17 of Set 10 | svetlaya\n",
      "Processing Record 18 of Set 10 | acarau\n",
      "Processing Record 19 of Set 10 | isabela\n",
      "Processing Record 20 of Set 10 | koson\n",
      "Processing Record 21 of Set 10 | zhanatas\n",
      "City not found. Skipping...\n",
      "Processing Record 22 of Set 10 | kavaratti\n",
      "Processing Record 23 of Set 10 | kupino\n",
      "Processing Record 24 of Set 10 | ust-tsilma\n",
      "Processing Record 25 of Set 10 | pringsewu\n",
      "Processing Record 26 of Set 10 | cabo san lucas\n",
      "Processing Record 27 of Set 10 | kita\n",
      "Processing Record 28 of Set 10 | pabrade\n",
      "Processing Record 29 of Set 10 | sobolevo\n",
      "Processing Record 30 of Set 10 | rossland\n",
      "Processing Record 31 of Set 10 | nanfeng\n",
      "Processing Record 32 of Set 10 | bouar\n",
      "Processing Record 33 of Set 10 | mao\n",
      "Processing Record 34 of Set 10 | venado tuerto\n",
      "Processing Record 35 of Set 10 | boa viagem\n",
      "Processing Record 36 of Set 10 | birin\n",
      "Processing Record 37 of Set 10 | storsteinnes\n",
      "Processing Record 38 of Set 10 | ust-nera\n",
      "Processing Record 39 of Set 10 | tabiauea\n",
      "City not found. Skipping...\n",
      "Processing Record 40 of Set 10 | walvis bay\n",
      "Processing Record 41 of Set 10 | sao filipe\n",
      "Processing Record 42 of Set 10 | dien bien\n",
      "City not found. Skipping...\n",
      "Processing Record 43 of Set 10 | najran\n",
      "Processing Record 44 of Set 10 | shumskiy\n",
      "Processing Record 45 of Set 10 | wahpeton\n",
      "Processing Record 46 of Set 10 | romitan\n",
      "Processing Record 47 of Set 10 | asfi\n",
      "Processing Record 48 of Set 10 | borgo san dalmazzo\n",
      "Processing Record 49 of Set 10 | kozhva\n",
      "Processing Record 50 of Set 10 | thunder bay\n",
      "Processing Record 1 of Set 11 | wiarton\n",
      "Processing Record 2 of Set 11 | muros\n",
      "Processing Record 3 of Set 11 | kiruna\n",
      "Processing Record 4 of Set 11 | ust-kut\n",
      "Processing Record 5 of Set 11 | buzmeyin\n",
      "Processing Record 6 of Set 11 | quatre cocos\n",
      "Processing Record 7 of Set 11 | waddan\n",
      "Processing Record 8 of Set 11 | cherdyn\n",
      "Processing Record 9 of Set 11 | kloulklubed\n",
      "Processing Record 10 of Set 11 | noumea\n",
      "Processing Record 11 of Set 11 | cockburn town\n",
      "Processing Record 12 of Set 11 | pamekasan\n",
      "Processing Record 13 of Set 11 | worland\n",
      "Processing Record 14 of Set 11 | shumyachi\n",
      "Processing Record 15 of Set 11 | marolambo\n",
      "Processing Record 16 of Set 11 | alice town\n",
      "Processing Record 17 of Set 11 | provideniya\n",
      "Processing Record 18 of Set 11 | mandalgovi\n",
      "Processing Record 19 of Set 11 | ampanihy\n",
      "Processing Record 20 of Set 11 | vilcun\n",
      "Processing Record 21 of Set 11 | chuy\n",
      "Processing Record 22 of Set 11 | santa cruz\n",
      "Processing Record 23 of Set 11 | nome\n",
      "Processing Record 24 of Set 11 | hendek\n",
      "Processing Record 25 of Set 11 | milkovo\n",
      "Processing Record 26 of Set 11 | pochutla\n",
      "Processing Record 27 of Set 11 | torbay\n",
      "Processing Record 28 of Set 11 | ardistan\n",
      "City not found. Skipping...\n",
      "Processing Record 29 of Set 11 | dali\n",
      "Processing Record 30 of Set 11 | severo-kurilsk\n",
      "Processing Record 31 of Set 11 | krasnyy chikoy\n",
      "Processing Record 32 of Set 11 | deputatskiy\n",
      "Processing Record 33 of Set 11 | zhigalovo\n",
      "Processing Record 34 of Set 11 | talcahuano\n",
      "Processing Record 35 of Set 11 | toora-khem\n",
      "Processing Record 36 of Set 11 | qaqortoq\n",
      "Processing Record 37 of Set 11 | chippewa falls\n",
      "Processing Record 38 of Set 11 | kafanchan\n",
      "Processing Record 39 of Set 11 | gamba\n",
      "Processing Record 40 of Set 11 | westport\n",
      "Processing Record 41 of Set 11 | bengkulu\n",
      "Processing Record 42 of Set 11 | yevpatoriya\n",
      "Processing Record 43 of Set 11 | guiratinga\n",
      "Processing Record 44 of Set 11 | mangrol\n",
      "Processing Record 45 of Set 11 | broken hill\n",
      "Processing Record 46 of Set 11 | rivers\n",
      "Processing Record 47 of Set 11 | tupik\n",
      "Processing Record 48 of Set 11 | bastrop\n",
      "Processing Record 49 of Set 11 | kintampo\n",
      "Processing Record 50 of Set 11 | viligili\n",
      "City not found. Skipping...\n",
      "Processing Record 1 of Set 12 | enkoping\n",
      "Processing Record 2 of Set 12 | la ronge\n",
      "Processing Record 3 of Set 12 | petropavlovsk-kamchatskiy\n",
      "Processing Record 4 of Set 12 | ranong\n",
      "Processing Record 5 of Set 12 | uromi\n",
      "Processing Record 6 of Set 12 | outjo\n",
      "Processing Record 7 of Set 12 | gulbarga\n",
      "Processing Record 8 of Set 12 | berlevag\n",
      "Processing Record 9 of Set 12 | toliary\n",
      "City not found. Skipping...\n",
      "Processing Record 10 of Set 12 | rosarito\n",
      "Processing Record 11 of Set 12 | palasbari\n",
      "Processing Record 12 of Set 12 | sistranda\n",
      "Processing Record 13 of Set 12 | safaga\n",
      "Processing Record 14 of Set 12 | quang ngai\n",
      "Processing Record 15 of Set 12 | verkhnyaya inta\n",
      "Processing Record 16 of Set 12 | tsienyane\n",
      "City not found. Skipping...\n",
      "Processing Record 17 of Set 12 | hofn\n"
     ]
    },
    {
     "name": "stdout",
     "output_type": "stream",
     "text": [
      "Processing Record 18 of Set 12 | puerto asis\n",
      "Processing Record 19 of Set 12 | daru\n",
      "Processing Record 20 of Set 12 | otjimbingwe\n",
      "Processing Record 21 of Set 12 | sinkat\n",
      "City not found. Skipping...\n",
      "Processing Record 22 of Set 12 | igarka\n",
      "Processing Record 23 of Set 12 | karatuzskoye\n",
      "Processing Record 24 of Set 12 | shache\n",
      "Processing Record 25 of Set 12 | naryan-mar\n",
      "Processing Record 26 of Set 12 | apollonia\n",
      "Processing Record 27 of Set 12 | verkh-usugli\n",
      "Processing Record 28 of Set 12 | bang saphan\n",
      "Processing Record 29 of Set 12 | lincoln\n",
      "Processing Record 30 of Set 12 | yemelyanovo\n",
      "Processing Record 31 of Set 12 | xinyu\n",
      "Processing Record 32 of Set 12 | curup\n",
      "Processing Record 33 of Set 12 | xadani\n",
      "City not found. Skipping...\n",
      "Processing Record 34 of Set 12 | denpasar\n",
      "Processing Record 35 of Set 12 | tautira\n",
      "Processing Record 36 of Set 12 | ust-omchug\n",
      "Processing Record 37 of Set 12 | grootfontein\n",
      "Processing Record 38 of Set 12 | auki\n",
      "Processing Record 39 of Set 12 | siilinjarvi\n",
      "Processing Record 40 of Set 12 | ijui\n",
      "Processing Record 41 of Set 12 | huarmey\n",
      "Processing Record 42 of Set 12 | balikpapan\n",
      "Processing Record 43 of Set 12 | cruden bay\n",
      "City not found. Skipping...\n",
      "Processing Record 44 of Set 12 | ketchikan\n",
      "Processing Record 45 of Set 12 | mehamn\n",
      "Processing Record 46 of Set 12 | carmen de apicala\n",
      "Processing Record 47 of Set 12 | uyuni\n",
      "Processing Record 48 of Set 12 | tsiroanomandidy\n",
      "Processing Record 49 of Set 12 | shieli\n",
      "Processing Record 50 of Set 12 | bargal\n",
      "City not found. Skipping...\n",
      "Processing Record 1 of Set 13 | turayf\n",
      "Processing Record 2 of Set 13 | jamame\n",
      "Processing Record 3 of Set 13 | poum\n",
      "Processing Record 4 of Set 13 | ponta do sol\n",
      "Processing Record 5 of Set 13 | kaeo\n",
      "Processing Record 6 of Set 13 | ksenyevka\n",
      "City not found. Skipping...\n",
      "Processing Record 7 of Set 13 | knysna\n",
      "Processing Record 8 of Set 13 | bandar\n",
      "Processing Record 9 of Set 13 | itarantim\n",
      "Processing Record 10 of Set 13 | penzance\n",
      "Processing Record 11 of Set 13 | lukovetskiy\n",
      "Processing Record 12 of Set 13 | makakilo city\n",
      "Processing Record 13 of Set 13 | fukue\n",
      "Processing Record 14 of Set 13 | san jacinto\n",
      "Processing Record 15 of Set 13 | repatriacion\n",
      "Processing Record 16 of Set 13 | ende\n",
      "Processing Record 17 of Set 13 | la reforma\n",
      "Processing Record 18 of Set 13 | paradwip\n",
      "City not found. Skipping...\n",
      "Processing Record 19 of Set 13 | taltal\n",
      "Processing Record 20 of Set 13 | birao\n",
      "Processing Record 21 of Set 13 | bonavista\n",
      "Processing Record 22 of Set 13 | aykhal\n",
      "Processing Record 23 of Set 13 | iowa city\n",
      "Processing Record 24 of Set 13 | dhidhdhoo\n",
      "Processing Record 25 of Set 13 | san felipe\n",
      "Processing Record 26 of Set 13 | taksimo\n",
      "-----------------------------\n",
      "Data Retrieval Complete\n",
      "-----------------------------\n"
     ]
    }
   ],
   "source": [
    "# Get weather data\n",
    "url = \"http://api.openweathermap.org/data/2.5/weather?\"\n",
    "units = \"imperial\"\n",
    "process_record = 0\n",
    "set_counter = 1\n",
    "cities_weather = []\n",
    "\n",
    "for city in cities:\n",
    "    \n",
    "     # Increase counter by one \n",
    "    process_record += 1\n",
    "    print(f\"Processing Record {process_record} of Set {set_counter} | {city}\")\n",
    "\n",
    "    if(process_record==50):\n",
    "        set_counter+=1\n",
    "        process_record=0\n",
    "    \n",
    "    query_url = f\"{url}&appid={weather_api_key}&q={city}&units={units}\"\n",
    "\n",
    "    try:\n",
    "        response = requests.get(query_url).json()\n",
    "        cities_weather.append({'City':city,\n",
    "                               'Lat':response['coord']['lat'],\n",
    "                               'Lng':response['coord']['lon'],\n",
    "                               'Max Temp':response['main']['temp_max'],\n",
    "                               'Humidity':response['main']['humidity'],\n",
    "                               'Cloudiness':response['clouds']['all'],\n",
    "                               'Wind Speed':response['wind']['speed'],\n",
    "                               'Country':response['sys']['country'],\n",
    "                               'Date':response['dt']})\n",
    "    except:\n",
    "        print('City not found. Skipping...')\n",
    "        pass\n",
    "        \n",
    "    \n",
    "print('-----------------------------')\n",
    "print('Data Retrieval Complete')      \n",
    "print('-----------------------------')"
   ]
  },
  {
   "cell_type": "code",
   "execution_count": 11,
   "metadata": {},
   "outputs": [
    {
     "data": {
      "text/html": [
       "<div>\n",
       "<style scoped>\n",
       "    .dataframe tbody tr th:only-of-type {\n",
       "        vertical-align: middle;\n",
       "    }\n",
       "\n",
       "    .dataframe tbody tr th {\n",
       "        vertical-align: top;\n",
       "    }\n",
       "\n",
       "    .dataframe thead th {\n",
       "        text-align: right;\n",
       "    }\n",
       "</style>\n",
       "<table border=\"1\" class=\"dataframe\">\n",
       "  <thead>\n",
       "    <tr style=\"text-align: right;\">\n",
       "      <th></th>\n",
       "      <th>City</th>\n",
       "      <th>Lat</th>\n",
       "      <th>Lng</th>\n",
       "      <th>Max Temp</th>\n",
       "      <th>Humidity</th>\n",
       "      <th>Cloudiness</th>\n",
       "      <th>Wind Speed</th>\n",
       "      <th>Country</th>\n",
       "      <th>Date</th>\n",
       "    </tr>\n",
       "  </thead>\n",
       "  <tbody>\n",
       "    <tr>\n",
       "      <th>0</th>\n",
       "      <td>bethel</td>\n",
       "      <td>41.37</td>\n",
       "      <td>-73.41</td>\n",
       "      <td>69.80</td>\n",
       "      <td>77</td>\n",
       "      <td>75</td>\n",
       "      <td>4.70</td>\n",
       "      <td>US</td>\n",
       "      <td>1596853639</td>\n",
       "    </tr>\n",
       "    <tr>\n",
       "      <th>1</th>\n",
       "      <td>tasiilaq</td>\n",
       "      <td>65.61</td>\n",
       "      <td>-37.64</td>\n",
       "      <td>44.60</td>\n",
       "      <td>75</td>\n",
       "      <td>21</td>\n",
       "      <td>18.34</td>\n",
       "      <td>GL</td>\n",
       "      <td>1596853639</td>\n",
       "    </tr>\n",
       "    <tr>\n",
       "      <th>2</th>\n",
       "      <td>te anau</td>\n",
       "      <td>-45.42</td>\n",
       "      <td>167.72</td>\n",
       "      <td>45.39</td>\n",
       "      <td>63</td>\n",
       "      <td>5</td>\n",
       "      <td>1.10</td>\n",
       "      <td>NZ</td>\n",
       "      <td>1596853423</td>\n",
       "    </tr>\n",
       "    <tr>\n",
       "      <th>3</th>\n",
       "      <td>east london</td>\n",
       "      <td>-33.02</td>\n",
       "      <td>27.91</td>\n",
       "      <td>54.10</td>\n",
       "      <td>69</td>\n",
       "      <td>49</td>\n",
       "      <td>9.31</td>\n",
       "      <td>ZA</td>\n",
       "      <td>1596853639</td>\n",
       "    </tr>\n",
       "    <tr>\n",
       "      <th>4</th>\n",
       "      <td>grand gaube</td>\n",
       "      <td>-20.01</td>\n",
       "      <td>57.66</td>\n",
       "      <td>64.40</td>\n",
       "      <td>88</td>\n",
       "      <td>40</td>\n",
       "      <td>3.36</td>\n",
       "      <td>MU</td>\n",
       "      <td>1596853639</td>\n",
       "    </tr>\n",
       "  </tbody>\n",
       "</table>\n",
       "</div>"
      ],
      "text/plain": [
       "          City    Lat     Lng  Max Temp  Humidity  Cloudiness  Wind Speed  \\\n",
       "0       bethel  41.37  -73.41     69.80        77          75        4.70   \n",
       "1     tasiilaq  65.61  -37.64     44.60        75          21       18.34   \n",
       "2      te anau -45.42  167.72     45.39        63           5        1.10   \n",
       "3  east london -33.02   27.91     54.10        69          49        9.31   \n",
       "4  grand gaube -20.01   57.66     64.40        88          40        3.36   \n",
       "\n",
       "  Country        Date  \n",
       "0      US  1596853639  \n",
       "1      GL  1596853639  \n",
       "2      NZ  1596853423  \n",
       "3      ZA  1596853639  \n",
       "4      MU  1596853639  "
      ]
     },
     "execution_count": 11,
     "metadata": {},
     "output_type": "execute_result"
    }
   ],
   "source": [
    "cities = pd.DataFrame(cities_weather)\n",
    "cities.head()"
   ]
  },
  {
   "cell_type": "markdown",
   "metadata": {},
   "source": [
    "### Convert Raw Data to DataFrame\n",
    "* Export the city data into a .csv.\n",
    "* Display the DataFrame"
   ]
  },
  {
   "cell_type": "code",
   "execution_count": 12,
   "metadata": {},
   "outputs": [
    {
     "data": {
      "text/plain": [
       "City          570\n",
       "Lat           570\n",
       "Lng           570\n",
       "Max Temp      570\n",
       "Humidity      570\n",
       "Cloudiness    570\n",
       "Wind Speed    570\n",
       "Country       570\n",
       "Date          570\n",
       "dtype: int64"
      ]
     },
     "execution_count": 12,
     "metadata": {},
     "output_type": "execute_result"
    }
   ],
   "source": [
    "cities.count()"
   ]
  },
  {
   "cell_type": "code",
   "execution_count": 14,
   "metadata": {},
   "outputs": [
    {
     "data": {
      "text/html": [
       "<div>\n",
       "<style scoped>\n",
       "    .dataframe tbody tr th:only-of-type {\n",
       "        vertical-align: middle;\n",
       "    }\n",
       "\n",
       "    .dataframe tbody tr th {\n",
       "        vertical-align: top;\n",
       "    }\n",
       "\n",
       "    .dataframe thead th {\n",
       "        text-align: right;\n",
       "    }\n",
       "</style>\n",
       "<table border=\"1\" class=\"dataframe\">\n",
       "  <thead>\n",
       "    <tr style=\"text-align: right;\">\n",
       "      <th></th>\n",
       "      <th>City</th>\n",
       "      <th>Lat</th>\n",
       "      <th>Lng</th>\n",
       "      <th>Max Temp</th>\n",
       "      <th>Humidity</th>\n",
       "      <th>Cloudiness</th>\n",
       "      <th>Wind Speed</th>\n",
       "      <th>Country</th>\n",
       "      <th>Date</th>\n",
       "    </tr>\n",
       "  </thead>\n",
       "  <tbody>\n",
       "    <tr>\n",
       "      <th>0</th>\n",
       "      <td>bethel</td>\n",
       "      <td>41.37</td>\n",
       "      <td>-73.41</td>\n",
       "      <td>69.80</td>\n",
       "      <td>77</td>\n",
       "      <td>75</td>\n",
       "      <td>4.70</td>\n",
       "      <td>US</td>\n",
       "      <td>1596853639</td>\n",
       "    </tr>\n",
       "    <tr>\n",
       "      <th>1</th>\n",
       "      <td>tasiilaq</td>\n",
       "      <td>65.61</td>\n",
       "      <td>-37.64</td>\n",
       "      <td>44.60</td>\n",
       "      <td>75</td>\n",
       "      <td>21</td>\n",
       "      <td>18.34</td>\n",
       "      <td>GL</td>\n",
       "      <td>1596853639</td>\n",
       "    </tr>\n",
       "    <tr>\n",
       "      <th>2</th>\n",
       "      <td>te anau</td>\n",
       "      <td>-45.42</td>\n",
       "      <td>167.72</td>\n",
       "      <td>45.39</td>\n",
       "      <td>63</td>\n",
       "      <td>5</td>\n",
       "      <td>1.10</td>\n",
       "      <td>NZ</td>\n",
       "      <td>1596853423</td>\n",
       "    </tr>\n",
       "    <tr>\n",
       "      <th>3</th>\n",
       "      <td>east london</td>\n",
       "      <td>-33.02</td>\n",
       "      <td>27.91</td>\n",
       "      <td>54.10</td>\n",
       "      <td>69</td>\n",
       "      <td>49</td>\n",
       "      <td>9.31</td>\n",
       "      <td>ZA</td>\n",
       "      <td>1596853639</td>\n",
       "    </tr>\n",
       "    <tr>\n",
       "      <th>4</th>\n",
       "      <td>grand gaube</td>\n",
       "      <td>-20.01</td>\n",
       "      <td>57.66</td>\n",
       "      <td>64.40</td>\n",
       "      <td>88</td>\n",
       "      <td>40</td>\n",
       "      <td>3.36</td>\n",
       "      <td>MU</td>\n",
       "      <td>1596853639</td>\n",
       "    </tr>\n",
       "    <tr>\n",
       "      <th>...</th>\n",
       "      <td>...</td>\n",
       "      <td>...</td>\n",
       "      <td>...</td>\n",
       "      <td>...</td>\n",
       "      <td>...</td>\n",
       "      <td>...</td>\n",
       "      <td>...</td>\n",
       "      <td>...</td>\n",
       "      <td>...</td>\n",
       "    </tr>\n",
       "    <tr>\n",
       "      <th>565</th>\n",
       "      <td>aykhal</td>\n",
       "      <td>66.00</td>\n",
       "      <td>111.50</td>\n",
       "      <td>64.40</td>\n",
       "      <td>68</td>\n",
       "      <td>1</td>\n",
       "      <td>2.24</td>\n",
       "      <td>RU</td>\n",
       "      <td>1596853689</td>\n",
       "    </tr>\n",
       "    <tr>\n",
       "      <th>566</th>\n",
       "      <td>iowa city</td>\n",
       "      <td>41.66</td>\n",
       "      <td>-91.53</td>\n",
       "      <td>75.20</td>\n",
       "      <td>69</td>\n",
       "      <td>1</td>\n",
       "      <td>10.29</td>\n",
       "      <td>US</td>\n",
       "      <td>1596853689</td>\n",
       "    </tr>\n",
       "    <tr>\n",
       "      <th>567</th>\n",
       "      <td>dhidhdhoo</td>\n",
       "      <td>6.88</td>\n",
       "      <td>73.10</td>\n",
       "      <td>82.45</td>\n",
       "      <td>75</td>\n",
       "      <td>100</td>\n",
       "      <td>16.89</td>\n",
       "      <td>MV</td>\n",
       "      <td>1596853466</td>\n",
       "    </tr>\n",
       "    <tr>\n",
       "      <th>568</th>\n",
       "      <td>san felipe</td>\n",
       "      <td>10.34</td>\n",
       "      <td>-68.74</td>\n",
       "      <td>73.00</td>\n",
       "      <td>91</td>\n",
       "      <td>66</td>\n",
       "      <td>1.48</td>\n",
       "      <td>VE</td>\n",
       "      <td>1596853689</td>\n",
       "    </tr>\n",
       "    <tr>\n",
       "      <th>569</th>\n",
       "      <td>taksimo</td>\n",
       "      <td>56.34</td>\n",
       "      <td>114.88</td>\n",
       "      <td>65.86</td>\n",
       "      <td>69</td>\n",
       "      <td>100</td>\n",
       "      <td>2.48</td>\n",
       "      <td>RU</td>\n",
       "      <td>1596853425</td>\n",
       "    </tr>\n",
       "  </tbody>\n",
       "</table>\n",
       "<p>570 rows × 9 columns</p>\n",
       "</div>"
      ],
      "text/plain": [
       "            City    Lat     Lng  Max Temp  Humidity  Cloudiness  Wind Speed  \\\n",
       "0         bethel  41.37  -73.41     69.80        77          75        4.70   \n",
       "1       tasiilaq  65.61  -37.64     44.60        75          21       18.34   \n",
       "2        te anau -45.42  167.72     45.39        63           5        1.10   \n",
       "3    east london -33.02   27.91     54.10        69          49        9.31   \n",
       "4    grand gaube -20.01   57.66     64.40        88          40        3.36   \n",
       "..           ...    ...     ...       ...       ...         ...         ...   \n",
       "565       aykhal  66.00  111.50     64.40        68           1        2.24   \n",
       "566    iowa city  41.66  -91.53     75.20        69           1       10.29   \n",
       "567    dhidhdhoo   6.88   73.10     82.45        75         100       16.89   \n",
       "568   san felipe  10.34  -68.74     73.00        91          66        1.48   \n",
       "569      taksimo  56.34  114.88     65.86        69         100        2.48   \n",
       "\n",
       "    Country        Date  \n",
       "0        US  1596853639  \n",
       "1        GL  1596853639  \n",
       "2        NZ  1596853423  \n",
       "3        ZA  1596853639  \n",
       "4        MU  1596853639  \n",
       "..      ...         ...  \n",
       "565      RU  1596853689  \n",
       "566      US  1596853689  \n",
       "567      MV  1596853466  \n",
       "568      VE  1596853689  \n",
       "569      RU  1596853425  \n",
       "\n",
       "[570 rows x 9 columns]"
      ]
     },
     "execution_count": 14,
     "metadata": {},
     "output_type": "execute_result"
    }
   ],
   "source": [
    "# Display the DataFrame\n",
    "cities = pd.DataFrame(cities_weather)\n",
    "cities"
   ]
  },
  {
   "cell_type": "code",
   "execution_count": 18,
   "metadata": {},
   "outputs": [],
   "source": [
    "# Export the data to csv\n",
    "cities.to_csv(output_data_file)"
   ]
  },
  {
   "cell_type": "markdown",
   "metadata": {},
   "source": [
    "## Inspect the data and remove the cities where the humidity > 100%.\n",
    "----\n",
    "Skip this step if there are no cities that have humidity > 100%. "
   ]
  },
  {
   "cell_type": "code",
   "execution_count": 21,
   "metadata": {},
   "outputs": [
    {
     "data": {
      "text/html": [
       "<div>\n",
       "<style scoped>\n",
       "    .dataframe tbody tr th:only-of-type {\n",
       "        vertical-align: middle;\n",
       "    }\n",
       "\n",
       "    .dataframe tbody tr th {\n",
       "        vertical-align: top;\n",
       "    }\n",
       "\n",
       "    .dataframe thead th {\n",
       "        text-align: right;\n",
       "    }\n",
       "</style>\n",
       "<table border=\"1\" class=\"dataframe\">\n",
       "  <thead>\n",
       "    <tr style=\"text-align: right;\">\n",
       "      <th></th>\n",
       "      <th>Lat</th>\n",
       "      <th>Lng</th>\n",
       "      <th>Max Temp</th>\n",
       "      <th>Humidity</th>\n",
       "      <th>Cloudiness</th>\n",
       "      <th>Wind Speed</th>\n",
       "      <th>Date</th>\n",
       "    </tr>\n",
       "  </thead>\n",
       "  <tbody>\n",
       "    <tr>\n",
       "      <th>count</th>\n",
       "      <td>570.000000</td>\n",
       "      <td>570.000000</td>\n",
       "      <td>570.000000</td>\n",
       "      <td>570.000000</td>\n",
       "      <td>570.000000</td>\n",
       "      <td>570.000000</td>\n",
       "      <td>5.700000e+02</td>\n",
       "    </tr>\n",
       "    <tr>\n",
       "      <th>mean</th>\n",
       "      <td>21.347684</td>\n",
       "      <td>20.471596</td>\n",
       "      <td>67.955579</td>\n",
       "      <td>72.482456</td>\n",
       "      <td>50.450877</td>\n",
       "      <td>7.512281</td>\n",
       "      <td>1.596854e+09</td>\n",
       "    </tr>\n",
       "    <tr>\n",
       "      <th>std</th>\n",
       "      <td>33.993102</td>\n",
       "      <td>89.477077</td>\n",
       "      <td>13.108514</td>\n",
       "      <td>20.236403</td>\n",
       "      <td>40.258635</td>\n",
       "      <td>5.315983</td>\n",
       "      <td>8.403757e+01</td>\n",
       "    </tr>\n",
       "    <tr>\n",
       "      <th>min</th>\n",
       "      <td>-54.800000</td>\n",
       "      <td>-175.200000</td>\n",
       "      <td>35.600000</td>\n",
       "      <td>3.000000</td>\n",
       "      <td>0.000000</td>\n",
       "      <td>0.450000</td>\n",
       "      <td>1.596853e+09</td>\n",
       "    </tr>\n",
       "    <tr>\n",
       "      <th>25%</th>\n",
       "      <td>-5.865000</td>\n",
       "      <td>-56.025000</td>\n",
       "      <td>57.602500</td>\n",
       "      <td>61.000000</td>\n",
       "      <td>3.000000</td>\n",
       "      <td>3.360000</td>\n",
       "      <td>1.596854e+09</td>\n",
       "    </tr>\n",
       "    <tr>\n",
       "      <th>50%</th>\n",
       "      <td>24.940000</td>\n",
       "      <td>23.210000</td>\n",
       "      <td>69.275000</td>\n",
       "      <td>77.500000</td>\n",
       "      <td>48.500000</td>\n",
       "      <td>5.860000</td>\n",
       "      <td>1.596854e+09</td>\n",
       "    </tr>\n",
       "    <tr>\n",
       "      <th>75%</th>\n",
       "      <td>52.250000</td>\n",
       "      <td>96.305000</td>\n",
       "      <td>78.010000</td>\n",
       "      <td>88.000000</td>\n",
       "      <td>92.750000</td>\n",
       "      <td>10.290000</td>\n",
       "      <td>1.596854e+09</td>\n",
       "    </tr>\n",
       "    <tr>\n",
       "      <th>max</th>\n",
       "      <td>78.220000</td>\n",
       "      <td>179.320000</td>\n",
       "      <td>100.540000</td>\n",
       "      <td>100.000000</td>\n",
       "      <td>100.000000</td>\n",
       "      <td>33.040000</td>\n",
       "      <td>1.596854e+09</td>\n",
       "    </tr>\n",
       "  </tbody>\n",
       "</table>\n",
       "</div>"
      ],
      "text/plain": [
       "              Lat         Lng    Max Temp    Humidity  Cloudiness  Wind Speed  \\\n",
       "count  570.000000  570.000000  570.000000  570.000000  570.000000  570.000000   \n",
       "mean    21.347684   20.471596   67.955579   72.482456   50.450877    7.512281   \n",
       "std     33.993102   89.477077   13.108514   20.236403   40.258635    5.315983   \n",
       "min    -54.800000 -175.200000   35.600000    3.000000    0.000000    0.450000   \n",
       "25%     -5.865000  -56.025000   57.602500   61.000000    3.000000    3.360000   \n",
       "50%     24.940000   23.210000   69.275000   77.500000   48.500000    5.860000   \n",
       "75%     52.250000   96.305000   78.010000   88.000000   92.750000   10.290000   \n",
       "max     78.220000  179.320000  100.540000  100.000000  100.000000   33.040000   \n",
       "\n",
       "               Date  \n",
       "count  5.700000e+02  \n",
       "mean   1.596854e+09  \n",
       "std    8.403757e+01  \n",
       "min    1.596853e+09  \n",
       "25%    1.596854e+09  \n",
       "50%    1.596854e+09  \n",
       "75%    1.596854e+09  \n",
       "max    1.596854e+09  "
      ]
     },
     "execution_count": 21,
     "metadata": {},
     "output_type": "execute_result"
    }
   ],
   "source": [
    "# Display a statistical overview of the DataFrame \n",
    "cities.describe()"
   ]
  },
  {
   "cell_type": "code",
   "execution_count": 22,
   "metadata": {},
   "outputs": [
    {
     "data": {
      "text/plain": [
       "0"
      ]
     },
     "execution_count": 22,
     "metadata": {},
     "output_type": "execute_result"
    }
   ],
   "source": [
    "# Cities that have humidity > 100%.\n",
    "indices = cities.index[weather_data_df['Humidity'] > 100].tolist()\n",
    "len(indices)"
   ]
  },
  {
   "cell_type": "code",
   "execution_count": 24,
   "metadata": {},
   "outputs": [
    {
     "data": {
      "text/html": [
       "<div>\n",
       "<style scoped>\n",
       "    .dataframe tbody tr th:only-of-type {\n",
       "        vertical-align: middle;\n",
       "    }\n",
       "\n",
       "    .dataframe tbody tr th {\n",
       "        vertical-align: top;\n",
       "    }\n",
       "\n",
       "    .dataframe thead th {\n",
       "        text-align: right;\n",
       "    }\n",
       "</style>\n",
       "<table border=\"1\" class=\"dataframe\">\n",
       "  <thead>\n",
       "    <tr style=\"text-align: right;\">\n",
       "      <th></th>\n",
       "      <th>City</th>\n",
       "      <th>Lat</th>\n",
       "      <th>Lng</th>\n",
       "      <th>Max Temp</th>\n",
       "      <th>Humidity</th>\n",
       "      <th>Cloudiness</th>\n",
       "      <th>Wind Speed</th>\n",
       "      <th>Country</th>\n",
       "      <th>Date</th>\n",
       "    </tr>\n",
       "  </thead>\n",
       "  <tbody>\n",
       "    <tr>\n",
       "      <th>0</th>\n",
       "      <td>bethel</td>\n",
       "      <td>41.37</td>\n",
       "      <td>-73.41</td>\n",
       "      <td>69.80</td>\n",
       "      <td>77</td>\n",
       "      <td>75</td>\n",
       "      <td>4.70</td>\n",
       "      <td>US</td>\n",
       "      <td>1596853639</td>\n",
       "    </tr>\n",
       "    <tr>\n",
       "      <th>1</th>\n",
       "      <td>tasiilaq</td>\n",
       "      <td>65.61</td>\n",
       "      <td>-37.64</td>\n",
       "      <td>44.60</td>\n",
       "      <td>75</td>\n",
       "      <td>21</td>\n",
       "      <td>18.34</td>\n",
       "      <td>GL</td>\n",
       "      <td>1596853639</td>\n",
       "    </tr>\n",
       "    <tr>\n",
       "      <th>2</th>\n",
       "      <td>te anau</td>\n",
       "      <td>-45.42</td>\n",
       "      <td>167.72</td>\n",
       "      <td>45.39</td>\n",
       "      <td>63</td>\n",
       "      <td>5</td>\n",
       "      <td>1.10</td>\n",
       "      <td>NZ</td>\n",
       "      <td>1596853423</td>\n",
       "    </tr>\n",
       "    <tr>\n",
       "      <th>3</th>\n",
       "      <td>east london</td>\n",
       "      <td>-33.02</td>\n",
       "      <td>27.91</td>\n",
       "      <td>54.10</td>\n",
       "      <td>69</td>\n",
       "      <td>49</td>\n",
       "      <td>9.31</td>\n",
       "      <td>ZA</td>\n",
       "      <td>1596853639</td>\n",
       "    </tr>\n",
       "    <tr>\n",
       "      <th>4</th>\n",
       "      <td>grand gaube</td>\n",
       "      <td>-20.01</td>\n",
       "      <td>57.66</td>\n",
       "      <td>64.40</td>\n",
       "      <td>88</td>\n",
       "      <td>40</td>\n",
       "      <td>3.36</td>\n",
       "      <td>MU</td>\n",
       "      <td>1596853639</td>\n",
       "    </tr>\n",
       "  </tbody>\n",
       "</table>\n",
       "</div>"
      ],
      "text/plain": [
       "          City    Lat     Lng  Max Temp  Humidity  Cloudiness  Wind Speed  \\\n",
       "0       bethel  41.37  -73.41     69.80        77          75        4.70   \n",
       "1     tasiilaq  65.61  -37.64     44.60        75          21       18.34   \n",
       "2      te anau -45.42  167.72     45.39        63           5        1.10   \n",
       "3  east london -33.02   27.91     54.10        69          49        9.31   \n",
       "4  grand gaube -20.01   57.66     64.40        88          40        3.36   \n",
       "\n",
       "  Country        Date  \n",
       "0      US  1596853639  \n",
       "1      GL  1596853639  \n",
       "2      NZ  1596853423  \n",
       "3      ZA  1596853639  \n",
       "4      MU  1596853639  "
      ]
     },
     "execution_count": 24,
     "metadata": {},
     "output_type": "execute_result"
    }
   ],
   "source": [
    "# Make a new DataFrame equal to the city data to drop all humidity outliers by index.\n",
    "# Passing \"inplace=False\" will make a copy of the city_data DataFrame, which we call \"clean_city_data\".\n",
    "clean_city_data = cities.drop(indices, inplace=False)\n",
    "clean_city_data.head()"
   ]
  },
  {
   "cell_type": "code",
   "execution_count": 80,
   "metadata": {},
   "outputs": [],
   "source": [
    "# Export the City_Data into a csv\n",
    "clean_city_data.to_csv(\"../output_data/clean_city_data.csv\")"
   ]
  },
  {
   "cell_type": "markdown",
   "metadata": {},
   "source": [
    "## Plotting the Data\n",
    "* Use proper labeling of the plots using plot titles (including date of analysis) and axes labels.\n",
    "* Save the plotted figures as .pngs."
   ]
  },
  {
   "cell_type": "markdown",
   "metadata": {},
   "source": [
    "## Latitude vs. Temperature Plot"
   ]
  },
  {
   "cell_type": "code",
   "execution_count": 81,
   "metadata": {},
   "outputs": [
    {
     "data": {
      "image/png": "[encoded data removed]",
      "text/plain": [
       "<Figure size 432x288 with 1 Axes>"
      ]
     },
     "metadata": {
      "needs_background": "light"
     },
     "output_type": "display_data"
    }
   ],
   "source": [
    "# Latitude Vs Temperature Scatter Plot \n",
    "plt.scatter(clean_city_data['Lat'],clean_city_data['Max Temp'],facecolors = \"magenta\", edgecolors =\"black\", marker =\"o\")\n",
    "plt.title(f'City Latitude vs. Max Temperature ({time.strftime(\"%m/%d/%Y\")})')\n",
    "plt.xlabel(\"Latitude\")\n",
    "plt.ylabel(\"Temperature (F)\")\n",
    "plt.grid(linestyle='-', linewidth=1, alpha = 0.5)\n",
    "\n",
    "# Save Figure\n",
    "plt.savefig(\"../output_data/City_Latitude_vs_Temperature.png\")\n",
    "\n",
    "plt.show()"
   ]
  },
  {
   "cell_type": "markdown",
   "metadata": {},
   "source": [
    "## Latitude vs. Humidity Plot"
   ]
  },
  {
   "cell_type": "code",
   "execution_count": 82,
   "metadata": {},
   "outputs": [
    {
     "data": {
      "image/png": "[encoded data removed]",
      "text/plain": [
       "<Figure size 432x288 with 1 Axes>"
      ]
     },
     "metadata": {
      "needs_background": "light"
     },
     "output_type": "display_data"
    }
   ],
   "source": [
    "# Latitude vs. Humidity Scatter Plot \n",
    "plt.scatter(clean_city_data[\"Lat\"],clean_city_data[\"Humidity\"],facecolors = \"cyan\", edgecolors =\"black\",marker =\"o\")\n",
    "plt.title(f'City Latitude vs. Humidity ({time.strftime(\"%m/%d/%Y\")})')\n",
    "plt.xlabel(\"Latitude\")\n",
    "plt.ylabel(\"Humidity (%)\")\n",
    "plt.grid(linestyle='-', linewidth=1, alpha = 0.5)\n",
    "\n",
    "# Save Figure\n",
    "plt.savefig(\"../output_data/City_Latitude_vs_Humidity.png\")\n",
    "\n",
    "plt.show()"
   ]
  },
  {
   "cell_type": "markdown",
   "metadata": {},
   "source": [
    "## Latitude vs. Cloudiness Plot"
   ]
  },
  {
   "cell_type": "code",
   "execution_count": 83,
   "metadata": {},
   "outputs": [
    {
     "data": {
      "image/png": "[encoded data removed]",
      "text/plain": [
       "<Figure size 432x288 with 1 Axes>"
      ]
     },
     "metadata": {
      "needs_background": "light"
     },
     "output_type": "display_data"
    }
   ],
   "source": [
    "# Latitude vs. Cloudiness Scatter Plot - **ADD CLEAN DATAFRAME?\n",
    "plt.scatter(clean_city_data['Lat'],clean_city_data['Cloudiness'],facecolors = \"plum\", edgecolors =\"black\", marker =\"o\")\n",
    "plt.title(f'City Latitude vs. Cloudiness ({time.strftime(\"%m/%d/%Y\")})')\n",
    "plt.xlabel(\"Latitude\")\n",
    "plt.ylabel(\"Cloudiness (%)\")\n",
    "plt.grid(linestyle='-', linewidth=1, alpha = 0.5)\n",
    "\n",
    "# Save Figure\n",
    "plt.savefig(\"../output_data/City_Latitude_vs_Cloudiness.png\")\n",
    "\n",
    "plt.show()"
   ]
  },
  {
   "cell_type": "markdown",
   "metadata": {},
   "source": [
    "## Latitude vs. Wind Speed Plot"
   ]
  },
  {
   "cell_type": "code",
   "execution_count": 84,
   "metadata": {},
   "outputs": [
    {
     "data": {
      "image/png": "[encoded data removed]",
      "text/plain": [
       "<Figure size 432x288 with 1 Axes>"
      ]
     },
     "metadata": {
      "needs_background": "light"
     },
     "output_type": "display_data"
    }
   ],
   "source": [
    "# Latitude vs. Wind Speed Scatter Plot \n",
    "plt.scatter(clean_city_data[\"Lat\"],clean_city_data[\"Wind Speed\"],facecolors = \"steelblue\", edgecolors =\"black\", marker =\"o\")\n",
    "plt.title(f'City Latitude vs. Wind Speed ({time.strftime(\"%m/%d/%Y\")})')\n",
    "plt.xlabel(\"Latitude\")\n",
    "plt.ylabel(\"Cloudiness (%)\")\n",
    "plt.grid(linestyle='-', linewidth=1, alpha = 0.5)\n",
    "\n",
    "# Save Figure\n",
    "plt.savefig(\"../output_data/City_Latitude_vs_WindSpeed.png\")\n",
    "\n",
    "plt.show()"
   ]
  },
  {
   "cell_type": "markdown",
   "metadata": {},
   "source": [
    "## Linear Regression"
   ]
  },
  {
   "cell_type": "code",
   "execution_count": 85,
   "metadata": {},
   "outputs": [],
   "source": [
    "def plot_linregress(X, y, title):\n",
    "    print(f\"The r-squared is: {round(st.pearsonr(X, y)[0],2)}\")\n",
    "    (slope, intercept, rvalue, pvalue, stderr) = linregress(X, y)\n",
    "    regress_values = X * slope + intercept\n",
    "    line_eq = \"y = \" + str(round(slope,2)) + \"X + \" + str(round(intercept,2))\n",
    "    plt.scatter(X, y)\n",
    "    plt.plot(X,regress_values,\"r-\")\n",
    "    plt.title(title + '\\n' + line_eq)\n",
    "    plt.xlabel(X.name)\n",
    "    plt.ylabel(y.name)\n"
   ]
  },
  {
   "cell_type": "code",
   "execution_count": 96,
   "metadata": {},
   "outputs": [
    {
     "name": "stdout",
     "output_type": "stream",
     "text": [
      "northern_hemisphere_df.shape (397, 9)\n",
      "southern_hemisphere_df.shape (173, 9)\n"
     ]
    }
   ],
   "source": [
    "# Create Northern and Southern Hemisphere DataFrames\n",
    "northern_hemisphere_df = clean_city_data.loc[clean_city_data['Lat'] >= 0]\n",
    "print('northern_hemisphere_df.shape', northern_hemisphere_df.shape)\n",
    "\n",
    "southern_hemisphere_df = clean_city_data.loc[clean_city_data['Lat'] < 0]\n",
    "print('southern_hemisphere_df.shape', southern_hemisphere_df.shape)"
   ]
  },
  {
   "cell_type": "markdown",
   "metadata": {},
   "source": [
    "####  Northern Hemisphere - Max Temp vs. Latitude Linear Regression"
   ]
  },
  {
   "cell_type": "code",
   "execution_count": 97,
   "metadata": {},
   "outputs": [
    {
     "name": "stdout",
     "output_type": "stream",
     "text": [
      "The r-squared is: -0.71\n"
     ]
    },
    {
     "data": {
      "image/png": "[encoded data removed]",
      "text/plain": [
       "<Figure size 432x288 with 1 Axes>"
      ]
     },
     "metadata": {
      "needs_background": "light"
     },
     "output_type": "display_data"
    }
   ],
   "source": [
    "plot_linregress(northern_hemisphere_df['Lat'], northern_hemisphere_df['Max Temp'], 'Northern Hemisphere - Max Temp vs. Latitude Linear Regression')"
   ]
  },
  {
   "cell_type": "markdown",
   "metadata": {},
   "source": [
    "####  Southern Hemisphere - Max Temp vs. Latitude Linear Regression"
   ]
  },
  {
   "cell_type": "code",
   "execution_count": 88,
   "metadata": {},
   "outputs": [
    {
     "name": "stdout",
     "output_type": "stream",
     "text": [
      "The r-squared is: 0.79\n"
     ]
    },
    {
     "data": {
      "image/png": "[encoded data removed]",
      "text/plain": [
       "<Figure size 432x288 with 1 Axes>"
      ]
     },
     "metadata": {
      "needs_background": "light"
     },
     "output_type": "display_data"
    }
   ],
   "source": [
    "plot_linregress(southern_hemisphere_df['Lat'], southern_hemisphere_df['Max Temp'], 'Southern Hemisphere -Max Temp vs. Latitude Linear Regression')"
   ]
  },
  {
   "cell_type": "markdown",
   "metadata": {},
   "source": [
    "####  Northern Hemisphere - Humidity (%) vs. Latitude Linear Regression"
   ]
  },
  {
   "cell_type": "code",
   "execution_count": 89,
   "metadata": {},
   "outputs": [
    {
     "name": "stdout",
     "output_type": "stream",
     "text": [
      "The r-squared is: -0.03\n"
     ]
    },
    {
     "data": {
      "image/png": "[encoded data removed]",
      "text/plain": [
       "<Figure size 432x288 with 1 Axes>"
      ]
     },
     "metadata": {
      "needs_background": "light"
     },
     "output_type": "display_data"
    }
   ],
   "source": [
    "plot_linregress(northern_hemisphere_df['Lat'], northern_hemisphere_df['Humidity'], 'Northern Hemisphere - Humidity (%) vs. Latitude Linear Regression')"
   ]
  },
  {
   "cell_type": "markdown",
   "metadata": {},
   "source": [
    "####  Southern Hemisphere - Humidity (%) vs. Latitude Linear Regression"
   ]
  },
  {
   "cell_type": "code",
   "execution_count": 90,
   "metadata": {},
   "outputs": [
    {
     "name": "stdout",
     "output_type": "stream",
     "text": [
      "The r-squared is: 0.03\n"
     ]
    },
    {
     "data": {
      "image/png": "[encoded data removed]",
      "text/plain": [
       "<Figure size 432x288 with 1 Axes>"
      ]
     },
     "metadata": {
      "needs_background": "light"
     },
     "output_type": "display_data"
    }
   ],
   "source": [
    "plot_linregress(southern_hemisphere_df['Lat'], southern_hemisphere_df['Humidity'], 'Southern Hemisphere - Humidity (%) vs. Latitude Linear Regression')"
   ]
  },
  {
   "cell_type": "markdown",
   "metadata": {},
   "source": [
    "####  Northern Hemisphere - Cloudiness (%) vs. Latitude Linear Regression"
   ]
  },
  {
   "cell_type": "code",
   "execution_count": 92,
   "metadata": {},
   "outputs": [
    {
     "name": "stdout",
     "output_type": "stream",
     "text": [
      "The r-squared is: 0.02\n"
     ]
    },
    {
     "data": {
      "image/png": "[encoded data removed]",
      "text/plain": [
       "<Figure size 432x288 with 1 Axes>"
      ]
     },
     "metadata": {
      "needs_background": "light"
     },
     "output_type": "display_data"
    }
   ],
   "source": [
    "plot_linregress(northern_hemisphere_df['Lat'], northern_hemisphere_df['Cloudiness'], 'Northern Hemisphere - Cloudiness (%) vs. Latitude Linear Regression')"
   ]
  },
  {
   "cell_type": "markdown",
   "metadata": {},
   "source": [
    "####  Southern Hemisphere - Cloudiness (%) vs. Latitude Linear Regression"
   ]
  },
  {
   "cell_type": "code",
   "execution_count": 93,
   "metadata": {},
   "outputs": [
    {
     "name": "stdout",
     "output_type": "stream",
     "text": [
      "The r-squared is: -0.27\n"
     ]
    },
    {
     "data": {
      "image/png": "[encoded data removed]",
      "text/plain": [
       "<Figure size 432x288 with 1 Axes>"
      ]
     },
     "metadata": {
      "needs_background": "light"
     },
     "output_type": "display_data"
    }
   ],
   "source": [
    "plot_linregress(southern_hemisphere_df['Lat'], southern_hemisphere_df['Cloudiness'], 'Southern Hemisphere - Cloudiness (%) vs. Latitude Linear Regression')"
   ]
  },
  {
   "cell_type": "markdown",
   "metadata": {},
   "source": [
    "####  Northern Hemisphere - Wind Speed (mph) vs. Latitude Linear Regression"
   ]
  },
  {
   "cell_type": "code",
   "execution_count": 94,
   "metadata": {},
   "outputs": [
    {
     "name": "stdout",
     "output_type": "stream",
     "text": [
      "The r-squared is: -0.08\n"
     ]
    },
    {
     "data": {
      "image/png": "[encoded data removed]",
      "text/plain": [
       "<Figure size 432x288 with 1 Axes>"
      ]
     },
     "metadata": {
      "needs_background": "light"
     },
     "output_type": "display_data"
    }
   ],
   "source": [
    "plot_linregress(northern_hemisphere_df['Lat'], northern_hemisphere_df['Wind Speed'], 'Northern Hemisphere - Wind Speed (mph) vs. Latitude Linear Regression')"
   ]
  },
  {
   "cell_type": "markdown",
   "metadata": {},
   "source": [
    "####  Southern Hemisphere - Wind Speed (mph) vs. Latitude Linear Regression"
   ]
  },
  {
   "cell_type": "code",
   "execution_count": 95,
   "metadata": {},
   "outputs": [
    {
     "name": "stdout",
     "output_type": "stream",
     "text": [
      "The r-squared is: -0.12\n"
     ]
    },
    {
     "data": {
      "image/png": "[encoded data removed]",
      "text/plain": [
       "<Figure size 432x288 with 1 Axes>"
      ]
     },
     "metadata": {
      "needs_background": "light"
     },
     "output_type": "display_data"
    }
   ],
   "source": [
    "plot_linregress(southern_hemisphere_df['Lat'], southern_hemisphere_df['Wind Speed'], 'Southern Hemisphere - Wind Speed (mph) vs. Latitude Linear Regression')"
   ]
  },
  {
   "cell_type": "code",
   "execution_count": null,
   "metadata": {},
   "outputs": [],
   "source": []
  }
 ],
 "metadata": {
  "anaconda-cloud": {},
  "kernel_info": {
   "name": "python3"
  },
  "kernelspec": {
   "display_name": "PythonData",
   "language": "python",
   "name": "pythondata"
  },
  "language_info": {
   "codemirror_mode": {
    "name": "ipython",
    "version": 3
   },
   "file_extension": ".py",
   "mimetype": "text/x-python",
   "name": "python",
   "nbconvert_exporter": "python",
   "pygments_lexer": "ipython3",
   "version": "3.7.7"
  },
  "latex_envs": {
   "LaTeX_envs_menu_present": true,
   "autoclose": false,
   "autocomplete": true,
   "bibliofile": "biblio.bib",
   "cite_by": "apalike",
   "current_citInitial": 1,
   "eqLabelWithNumbers": true,
   "eqNumInitial": 1,
   "hotkeys": {
    "equation": "Ctrl-E",
    "itemize": "Ctrl-I"
   },
   "labels_anchors": false,
   "latex_user_defs": false,
   "report_style_numbering": false,
   "user_envs_cfg": false
  },
  "nteract": {
   "version": "0.12.3"
  }
 },
 "nbformat": 4,
 "nbformat_minor": 2
}
